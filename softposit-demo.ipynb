{
 "cells": [
  {
   "cell_type": "code",
   "execution_count": 58,
   "metadata": {},
   "outputs": [
    {
     "name": "stdout",
     "output_type": "stream",
     "text": [
      "Requirement already satisfied: softposit in /Users/palaniappan_r/miniconda3/envs/tensorflow/lib/python3.10/site-packages (0.3.4.4)\n",
      "Note: you may need to restart the kernel to use updated packages.\n"
     ]
    }
   ],
   "source": [
    "pip install softposit"
   ]
  },
  {
   "cell_type": "code",
   "execution_count": 46,
   "metadata": {},
   "outputs": [
    {
     "name": "stdout",
     "output_type": "stream",
     "text": [
      "posit8: 1\n",
      "\u001b[1;37;41m0\u001b[0m\u001b[1;30;43m01\u001b[0m\u001b[1;37;40m01000\u001b[0m\n",
      "\n",
      "Shift bit to the right 1 time:\n",
      "\u001b[1;37;41m0\u001b[0m\u001b[1;30;43m001\u001b[0m\u001b[1;37;40m0100\u001b[0m\n",
      "posit8:  0.3125\n",
      "\n",
      "Shift bit to the right 2 time:\n",
      "\u001b[1;37;41m0\u001b[0m\u001b[1;30;43m0001\u001b[0m\u001b[1;37;40m010\u001b[0m\n",
      "posit8:  0.15625\n",
      "\n",
      "Shift bit to the right 3 time:\n",
      "\u001b[1;37;41m0\u001b[0m\u001b[1;30;43m00001\u001b[0m\u001b[1;37;40m01\u001b[0m\n",
      "posit8:  0.078125\n"
     ]
    }
   ],
   "source": [
    "print(\"posit8: 1\")\n",
    "p8 = sp.posit8(0.625)\n",
    "p8.toBinaryFormatted()\n",
    "\n",
    "print(\"\\nShift bit to the right 1 time:\");\n",
    "p8>>=1\n",
    "p8.toBinaryFormatted()\n",
    "print(\"posit8: \", p8)\n",
    "\n",
    "\n",
    "print(\"\\nShift bit to the right 2 time:\");\n",
    "p8 = sp.posit8(0.625)\n",
    "p8>>=2\n",
    "p8.toBinaryFormatted()\n",
    "print(\"posit8: \", p8)\n",
    "\n",
    "print(\"\\nShift bit to the right 3 time:\");\n",
    "p8 = sp.posit8(0.625)\n",
    "p8>>=3\n",
    "p8.toBinaryFormatted()\n",
    "print(\"posit8: \", p8)"
   ]
  },
  {
   "cell_type": "code",
   "execution_count": 43,
   "metadata": {},
   "outputs": [
    {
     "name": "stdout",
     "output_type": "stream",
     "text": [
      "posit16: 1\n",
      "\u001b[1;37;41m0\u001b[0m\u001b[1;30;43m10\u001b[0m\u001b[1;37;44m0\u001b[0m\u001b[1;37;40m0000 00000000\u001b[0m\n",
      "\n",
      "Shift bit to the right 1 time:\n",
      "\u001b[1;37;41m0\u001b[0m\u001b[1;30;43m01\u001b[0m\u001b[1;37;44m0\u001b[0m\u001b[1;37;40m0000 00000000\u001b[0m\n",
      "posit16:  0.25\n",
      "\n",
      "Shift bit to the right 2 time:\n",
      "\u001b[1;37;41m0\u001b[0m\u001b[1;30;43m001\u001b[0m\u001b[1;37;44m0\u001b[0m\u001b[1;37;40m000 00000000\u001b[0m\n",
      "posit16:  0.0625\n",
      "\n",
      "Shift bit to the right 3 time:\n",
      "\u001b[1;37;41m0\u001b[0m\u001b[1;30;43m0001\u001b[0m\u001b[1;37;44m0\u001b[0m\u001b[1;37;40m00 00000000\u001b[0m\n",
      "posit16:  0.015625\n"
     ]
    }
   ],
   "source": [
    "print(\"posit16: 1\")\n",
    "p16 = sp.posit16(1)\n",
    "p16.toBinaryFormatted()\n",
    "\n",
    "print(\"\\nShift bit to the right 1 time:\");\n",
    "p16>>=1\n",
    "p16.toBinaryFormatted()\n",
    "print(\"posit16: \", p16)\n",
    "\n",
    "print(\"\\nShift bit to the right 2 time:\");\n",
    "p16 = sp.posit16(1)\n",
    "p16>>=2\n",
    "p16.toBinaryFormatted()\n",
    "print(\"posit16: \", p16)\n",
    "\n",
    "print(\"\\nShift bit to the right 3 times:\");\n",
    "p16 = sp.posit16(1)\n",
    "p16>>=3\n",
    "p16.toBinaryFormatted()\n",
    "print(\"posit16: \", p16)"
   ]
  },
  {
   "cell_type": "code",
   "execution_count": 45,
   "metadata": {},
   "outputs": [
    {
     "name": "stdout",
     "output_type": "stream",
     "text": [
      "posit32: 1\n",
      "\u001b[1;37;41m0\u001b[0m\u001b[1;30;43m10\u001b[0m\u001b[1;37;44m00\u001b[0m\u001b[1;37;40m000 00000000 00000000 00000000\u001b[0m\n",
      "\n",
      "Shift bit to the right 1 time:\n",
      "\u001b[1;37;41m0\u001b[0m\u001b[1;30;43m01\u001b[0m\u001b[1;37;44m00\u001b[0m\u001b[1;37;40m000 00000000 00000000 00000000\u001b[0m\n",
      "posit32:  0.0625\n",
      "\n",
      "Shift bit to the right 2 time:\n",
      "\u001b[1;37;41m0\u001b[0m\u001b[1;30;43m001\u001b[0m\u001b[1;37;44m00\u001b[0m\u001b[1;37;40m00 00000000 00000000 00000000\u001b[0m\n",
      "posit32:  0.00390625\n",
      "\n",
      "Shift bit to the right 3 time:\n",
      "\u001b[1;37;41m0\u001b[0m\u001b[1;30;43m0001\u001b[0m\u001b[1;37;44m00\u001b[0m\u001b[1;37;40m0 00000000 00000000 00000000\u001b[0m\n",
      "posit32:  0.000244140625\n"
     ]
    }
   ],
   "source": [
    "print(\"posit32: 1\")\n",
    "p32 = sp.posit32(1)\n",
    "p32.toBinaryFormatted()\n",
    "\n",
    "print(\"\\nShift bit to the right 1 time:\");\n",
    "p32>>=1\n",
    "p32.toBinaryFormatted()\n",
    "print(\"posit32: \", p32)\n",
    "\n",
    "print(\"\\nShift bit to the right 2 time:\");\n",
    "p32 = sp.posit32(1)\n",
    "p32>>=2\n",
    "p32.toBinaryFormatted()\n",
    "print(\"posit32: \", p32)\n",
    "\n",
    "print(\"\\nShift bit to the right 3 time:\");\n",
    "p32 = sp.posit32(1)\n",
    "p32>>=3\n",
    "p32.toBinaryFormatted()\n",
    "print(\"posit32: \", p32)"
   ]
  },
  {
   "cell_type": "code",
   "execution_count": 48,
   "metadata": {},
   "outputs": [],
   "source": [
    "p8_1 = sp.posit8(0.625)\n",
    "p8_2 = sp.posit8(0.525)"
   ]
  },
  {
   "cell_type": "code",
   "execution_count": 50,
   "metadata": {},
   "outputs": [],
   "source": [
    "p8_3 = p8_1 + p8_2"
   ]
  },
  {
   "cell_type": "code",
   "execution_count": 52,
   "metadata": {},
   "outputs": [
    {
     "name": "stdout",
     "output_type": "stream",
     "text": [
      "\u001b[1;37;41m0\u001b[0m\u001b[1;30;43m10\u001b[0m\u001b[1;37;40m00101\u001b[0m\n"
     ]
    }
   ],
   "source": [
    "p8_3.toBinaryFormatted()"
   ]
  },
  {
   "cell_type": "code",
   "execution_count": 53,
   "metadata": {},
   "outputs": [
    {
     "data": {
      "text/plain": [
       "1.15625"
      ]
     },
     "execution_count": 53,
     "metadata": {},
     "output_type": "execute_result"
    }
   ],
   "source": [
    "p8_3"
   ]
  },
  {
   "cell_type": "code",
   "execution_count": 54,
   "metadata": {},
   "outputs": [],
   "source": [
    "a = sp.posit16(1234)"
   ]
  },
  {
   "cell_type": "code",
   "execution_count": 55,
   "metadata": {},
   "outputs": [
    {
     "data": {
      "text/plain": [
       "1232.0"
      ]
     },
     "execution_count": 55,
     "metadata": {},
     "output_type": "execute_result"
    }
   ],
   "source": [
    "a"
   ]
  },
  {
   "cell_type": "code",
   "execution_count": 57,
   "metadata": {},
   "outputs": [
    {
     "name": "stdout",
     "output_type": "stream",
     "text": [
      "\u001b[1;37;41m0\u001b[0m\u001b[1;30;43m1111110\u001b[0m \u001b[1;37;44m0\u001b[0m\u001b[1;37;40m0011010\u001b[0m\n"
     ]
    }
   ],
   "source": [
    "a.toBinaryFormatted()"
   ]
  },
  {
   "cell_type": "code",
   "execution_count": 63,
   "metadata": {},
   "outputs": [],
   "source": [
    "a = sp.posit32(0.234328334)"
   ]
  },
  {
   "cell_type": "code",
   "execution_count": 64,
   "metadata": {},
   "outputs": [
    {
     "data": {
      "text/plain": [
       "0.23432833421975374"
      ]
     },
     "execution_count": 64,
     "metadata": {},
     "output_type": "execute_result"
    }
   ],
   "source": [
    "a"
   ]
  },
  {
   "cell_type": "code",
   "execution_count": 65,
   "metadata": {},
   "outputs": [],
   "source": [
    "st = \"00111110011011111111001111000100\""
   ]
  },
  {
   "cell_type": "code",
   "execution_count": 66,
   "metadata": {},
   "outputs": [
    {
     "data": {
      "text/plain": [
       "32"
      ]
     },
     "execution_count": 66,
     "metadata": {},
     "output_type": "execute_result"
    }
   ],
   "source": [
    "len(st)"
   ]
  },
  {
   "cell_type": "code",
   "execution_count": 67,
   "metadata": {},
   "outputs": [],
   "source": [
    "positErr = 0.23432833421975374 - 0.234328334"
   ]
  },
  {
   "cell_type": "code",
   "execution_count": 68,
   "metadata": {},
   "outputs": [
    {
     "name": "stdout",
     "output_type": "stream",
     "text": [
      "2.1975374298044414e-10\n"
     ]
    }
   ],
   "source": [
    "print(positErr)"
   ]
  },
  {
   "cell_type": "code",
   "execution_count": null,
   "metadata": {},
   "outputs": [],
   "source": []
  }
 ],
 "metadata": {
  "kernelspec": {
   "display_name": "Python 3.10.10 (tensorflow)",
   "language": "python",
   "name": "tensorflow"
  },
  "language_info": {
   "codemirror_mode": {
    "name": "ipython",
    "version": 3
   },
   "file_extension": ".py",
   "mimetype": "text/x-python",
   "name": "python",
   "nbconvert_exporter": "python",
   "pygments_lexer": "ipython3",
   "version": "3.10.8"
  }
 },
 "nbformat": 4,
 "nbformat_minor": 2
}
