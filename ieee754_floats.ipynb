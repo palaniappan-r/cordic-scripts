{
 "cells": [
  {
   "cell_type": "code",
   "execution_count": 16,
   "metadata": {},
   "outputs": [],
   "source": [
    "from termcolor import colored as c"
   ]
  },
  {
   "cell_type": "code",
   "execution_count": 17,
   "metadata": {},
   "outputs": [],
   "source": [
    "# def pprint_ieee_754(bin_str):\n",
    "#     s_len = 1\n",
    "#     e_len = 8\n",
    "#     m_len = 23\n",
    "\n",
    "#     s = bin_str[:s_len]\n",
    "#     e = bin_str[s_len:s_len + e_len]\n",
    "#     m = bin_str[s_len + e_len:]\n",
    "\n",
    "#     print(f\"{(s, 'red', attrs=['bold'])}{(e, 'green', attrs=['bold'])}{(m, 'blue', attrs=['bold'])}\")\n"
   ]
  },
  {
   "cell_type": "code",
   "execution_count": 22,
   "metadata": {},
   "outputs": [],
   "source": [
    "import struct\n",
    "\n",
    "def ieee754_add(bin_num1, bin_num2):\n",
    "    dec_num1 = struct.unpack('!f', struct.pack('!I', int(bin_num1, 2)))[0]\n",
    "    dec_num2 = struct.unpack('!f', struct.pack('!I', int(bin_num2, 2)))[0]\n",
    "    result = dec_num1 + dec_num2\n",
    "    return ''.join(f\"{byte:08b}\" for byte in struct.pack('!f', result))\n",
    "\n",
    "def float_to_binary_ieee_754(number):\n",
    "    ieee_754_bytes = struct.pack('>f', number)\n",
    "    ieee_754_binary = ''.join(f\"{byte:08b}\" for byte in ieee_754_bytes)\n",
    "    \n",
    "    return ieee_754_binary\n",
    "    \n",
    "def binary_ieee_754_to_float(binary_string):\n",
    "    binary_bytes = bytes(int(binary_string[i:i+8], 2) for i in range(0, len(binary_string), 8))\n",
    "    return struct.unpack('>f', binary_bytes)[0]\n",
    "\n",
    "    return ieee_754_binary\n",
    "\n",
    "def decrement(bin_str,a):\n",
    "    bin_value = int(bin_str, 2)\n",
    "    masked_value = bin_value & 0xFF\n",
    "    decremented_value = (masked_value - a) & 0xFF\n",
    "    return format(decremented_value, '08b')\n",
    "\n",
    "def exp_bin_str(bin_str,e):\n",
    "    sign = bin_str[0]\n",
    "    exp = bin_str[1:9]\n",
    "    mant = bin_str[9:]\n",
    "    exp_bin = sign + decrement(exp,e) + mant\n",
    "    return exp_bin\n",
    "\n",
    "def neg_bin_str(bin_str):\n",
    "    sign_bit = bin_str[0]\n",
    "    if sign_bit == '1':\n",
    "        sign_bit = '0'\n",
    "    else:\n",
    "        sign_bit = '1'\n",
    "    return sign_bit+bin_str[1:]\n",
    "\n",
    "right_shift = lambda bin_str, shift: bin_str[-shift:] + bin_str[:-shift]\n"
   ]
  },
  {
   "cell_type": "code",
   "execution_count": 19,
   "metadata": {},
   "outputs": [],
   "source": [
    "a = -0.750\n",
    "bin_a = float_to_binary_ieee_754(a)\n",
    "b = 0.523\n",
    "bin_b = float_to_binary_ieee_754(b)\n",
    "bin_c = ieee754_add(bin_a, bin_b)\n",
    "c = binary_ieee_754_to_float(bin_c)"
   ]
  },
  {
   "cell_type": "code",
   "execution_count": 20,
   "metadata": {},
   "outputs": [
    {
     "ename": "NameError",
     "evalue": "name 'pprint_ieee_754' is not defined",
     "output_type": "error",
     "traceback": [
      "\u001b[0;31m---------------------------------------------------------------------------\u001b[0m",
      "\u001b[0;31mNameError\u001b[0m                                 Traceback (most recent call last)",
      "Cell \u001b[0;32mIn[20], line 1\u001b[0m\n\u001b[0;32m----> 1\u001b[0m \u001b[43mpprint_ieee_754\u001b[49m(bin_a)\n",
      "\u001b[0;31mNameError\u001b[0m: name 'pprint_ieee_754' is not defined"
     ]
    }
   ],
   "source": [
    "pprint_ieee_754(bin_a)"
   ]
  },
  {
   "cell_type": "code",
   "execution_count": null,
   "metadata": {},
   "outputs": [
    {
     "data": {
      "text/plain": [
       "'01111101'"
      ]
     },
     "execution_count": 127,
     "metadata": {},
     "output_type": "execute_result"
    }
   ],
   "source": [
    "exp = \"01111110\"\n",
    "exp_1 = decrement(exp, 1)\n",
    "exp_1"
   ]
  },
  {
   "cell_type": "code",
   "execution_count": null,
   "metadata": {},
   "outputs": [],
   "source": [
    "sa = \"00111110110000000000000000000000\""
   ]
  },
  {
   "cell_type": "code",
   "execution_count": null,
   "metadata": {},
   "outputs": [
    {
     "data": {
      "text/plain": [
       "0.75"
      ]
     },
     "execution_count": 129,
     "metadata": {},
     "output_type": "execute_result"
    }
   ],
   "source": [
    "binary_ieee_754_to_float(bin_a)"
   ]
  },
  {
   "cell_type": "code",
   "execution_count": null,
   "metadata": {},
   "outputs": [
    {
     "data": {
      "text/plain": [
       "0.375"
      ]
     },
     "execution_count": 130,
     "metadata": {},
     "output_type": "execute_result"
    }
   ],
   "source": [
    "binary_ieee_754_to_float(sa)"
   ]
  },
  {
   "cell_type": "code",
   "execution_count": null,
   "metadata": {},
   "outputs": [
    {
     "data": {
      "text/plain": [
       "0.75"
      ]
     },
     "execution_count": 158,
     "metadata": {},
     "output_type": "execute_result"
    }
   ],
   "source": [
    "neg_a = neg_bin_str(bin_a)\n",
    "neg_a\n",
    "binary_ieee_754_to_float(neg_a)"
   ]
  },
  {
   "cell_type": "code",
   "execution_count": 26,
   "metadata": {},
   "outputs": [
    {
     "name": "stdout",
     "output_type": "stream",
     "text": [
      "00111110010000000000000000000000\n"
     ]
    },
    {
     "data": {
      "text/plain": [
       "0.1875"
      ]
     },
     "execution_count": 26,
     "metadata": {},
     "output_type": "execute_result"
    }
   ],
   "source": [
    "a = 0.75\n",
    "ha = exp_bin_str(float_to_binary_ieee_754(a),2)\n",
    "print(ha)\n",
    "binary_ieee_754_to_float(ha)"
   ]
  }
 ],
 "metadata": {
  "kernelspec": {
   "display_name": "Python 3.10.10 (tensorflow)",
   "language": "python",
   "name": "tensorflow"
  },
  "language_info": {
   "codemirror_mode": {
    "name": "ipython",
    "version": 3
   },
   "file_extension": ".py",
   "mimetype": "text/x-python",
   "name": "python",
   "nbconvert_exporter": "python",
   "pygments_lexer": "ipython3",
   "version": "3.10.8"
  }
 },
 "nbformat": 4,
 "nbformat_minor": 2
}
