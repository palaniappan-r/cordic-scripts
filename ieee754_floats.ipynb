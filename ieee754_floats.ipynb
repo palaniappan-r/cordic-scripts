{
 "cells": [
  {
   "cell_type": "code",
   "execution_count": 82,
   "metadata": {},
   "outputs": [],
   "source": [
    "from termcolor import colored as c"
   ]
  },
  {
   "cell_type": "code",
   "execution_count": 83,
   "metadata": {},
   "outputs": [],
   "source": [
    "def pprint_ieee_754(bin_str):\n",
    "    s_len = 1\n",
    "    e_len = 8\n",
    "    m_len = 23\n",
    "\n",
    "    s = bin_str[:s_len]\n",
    "    e = bin_str[s_len:s_len + e_len]\n",
    "    m = bin_str[s_len + e_len:]\n",
    "\n",
    "    print(f\"{c(s, 'red', attrs=['bold'])}{c(e, 'green', attrs=['bold'])}{c(m, 'blue', attrs=['bold'])}\")\n"
   ]
  },
  {
   "cell_type": "code",
   "execution_count": 84,
   "metadata": {},
   "outputs": [],
   "source": [
    "import struct\n",
    "\n",
    "def float_to_binary_ieee_754(number):\n",
    "    ieee_754_bytes = struct.pack('>f', number)\n",
    "    ieee_754_binary = ''.join(f\"{byte:08b}\" for byte in ieee_754_bytes)\n",
    "    \n",
    "    return ieee_754_binary\n",
    "    \n",
    "def binary_ieee_754_to_float(binary_string):\n",
    "    binary_bytes = bytes(int(binary_string[i:i+8], 2) for i in range(0, len(binary_string), 8))\n",
    "    return struct.unpack('>f', binary_bytes)[0]\n",
    "\n",
    "    return ieee_754_binary\n",
    "\n",
    "right_shift = lambda bin_str, shift: bin_str[-shift:] + bin_str[:-shift]\n"
   ]
  },
  {
   "cell_type": "code",
   "execution_count": 85,
   "metadata": {},
   "outputs": [],
   "source": [
    "a = 0.750\n",
    "bin_a = float_to_binary_ieee_754(a)"
   ]
  },
  {
   "cell_type": "code",
   "execution_count": 86,
   "metadata": {},
   "outputs": [
    {
     "name": "stdout",
     "output_type": "stream",
     "text": [
      "\u001b[1m\u001b[31m0\u001b[0m\u001b[1m\u001b[32m01111110\u001b[0m\u001b[1m\u001b[34m10000000000000000000000\u001b[0m\n"
     ]
    }
   ],
   "source": [
    "pprint_ieee_754(bin_a)"
   ]
  },
  {
   "cell_type": "code",
   "execution_count": 97,
   "metadata": {},
   "outputs": [
    {
     "name": "stdout",
     "output_type": "stream",
     "text": [
      "\u001b[1m\u001b[31m0\u001b[0m\u001b[1m\u001b[32m00111111\u001b[0m\u001b[1m\u001b[34m01000000000000000000000\u001b[0m\n"
     ]
    }
   ],
   "source": [
    "sa = right_shift(bin_a, 1)\n",
    "pprint_ieee_754(sa)"
   ]
  },
  {
   "cell_type": "code",
   "execution_count": 98,
   "metadata": {},
   "outputs": [
    {
     "data": {
      "text/plain": [
       "0.75"
      ]
     },
     "execution_count": 98,
     "metadata": {},
     "output_type": "execute_result"
    }
   ],
   "source": [
    "binary_ieee_754_to_float(bin_a)"
   ]
  },
  {
   "cell_type": "code",
   "execution_count": 99,
   "metadata": {},
   "outputs": [
    {
     "data": {
      "text/plain": [
       "6.776263578034403e-20"
      ]
     },
     "execution_count": 99,
     "metadata": {},
     "output_type": "execute_result"
    }
   ],
   "source": [
    "binary_ieee_754_to_float(sa)"
   ]
  }
 ],
 "metadata": {
  "kernelspec": {
   "display_name": "Python 3.10.10 (tensorflow)",
   "language": "python",
   "name": "tensorflow"
  },
  "language_info": {
   "codemirror_mode": {
    "name": "ipython",
    "version": 3
   },
   "file_extension": ".py",
   "mimetype": "text/x-python",
   "name": "python",
   "nbconvert_exporter": "python",
   "pygments_lexer": "ipython3",
   "version": "3.10.8"
  }
 },
 "nbformat": 4,
 "nbformat_minor": 2
}
