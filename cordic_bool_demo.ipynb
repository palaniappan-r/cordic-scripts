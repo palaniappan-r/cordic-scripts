{
 "cells": [
  {
   "cell_type": "code",
   "execution_count": 104,
   "metadata": {},
   "outputs": [],
   "source": [
    "def generate_lookup_table(num_entries):\n",
    "    lookup_table = []\n",
    "    for i in range(num_entries):\n",
    "        angle_radians = math.atan(2**(-i))\n",
    "        angle_degrees = math.degrees(angle_radians)\n",
    "        lookup_table.append(angle_degrees)\n",
    "    return lookup_table\n",
    "\n",
    "def bin_addition(a, b):\n",
    "    max_len = max(len(a), len(b))\n",
    "    a = a.zfill(max_len)\n",
    "    b = b.zfill(max_len)\n",
    "    carry = 0\n",
    "    result = ''\n",
    "    for i in range(max_len - 1, -1, -1):\n",
    "        bit_sum = int(a[i]) + int(b[i]) + carry\n",
    "        result = str(bit_sum % 2) + result\n",
    "        carry = 1 if bit_sum >= 2 else 0\n",
    "    if carry:\n",
    "        result = '1' + result\n",
    "    return result\n",
    "\n",
    "def twos_comp(bin_str):\n",
    "    inv = ''\n",
    "    for bit in bin_str:\n",
    "        inv += '1' if bit == '0' else '0'\n",
    "\n",
    "    carry = 1\n",
    "    result = ''\n",
    "    for bit in inv[::-1]:\n",
    "        sum_bits = int(bit) + carry\n",
    "        result = str(sum_bits % 2) + result\n",
    "        carry = 1 if sum_bits > 1 else 0\n",
    "\n",
    "    return result.zfill(len(bin_str))\n",
    "\n",
    "def fraction_to_bin_str(f):\n",
    "    b = ''\n",
    "    while f != 0:\n",
    "        f *= 2\n",
    "        if f >= 1:\n",
    "            b += '1'\n",
    "            f -= 1\n",
    "        else:\n",
    "            b += '0'\n",
    "\n",
    "        if len(b) >= 16:\n",
    "            return b[:16]\n",
    "    if len(b) < 16:\n",
    "        return b + '0' * (16 - len(b))\n",
    "    return b\n",
    "\n",
    "def bin_to_frac(bin_str):\n",
    "    frac = 0.0\n",
    "    neg = False\n",
    "\n",
    "    if bin_str[0] == '1':\n",
    "        neg = True\n",
    "        bin_str = twos_comp(bin_str)\n",
    "\n",
    "    for i, bit in enumerate(bin_str):\n",
    "        if bit == '1':\n",
    "            frac += 2 ** -(i + 1)\n",
    "\n",
    "    return -frac if neg else frac\n",
    "\n",
    "right_shift = lambda bin_str, shift: bin_str[-shift:] + bin_str[:-shift]\n",
    "\n",
    "def binary_str(a):\n",
    "    return bin(a)[2:]\n",
    "\n",
    "def bin_to_float(a):\n",
    "    return struct.unpack('!f', struct.pack('!I', int(a, 2)))[0]"
   ]
  },
  {
   "cell_type": "code",
   "execution_count": 105,
   "metadata": {},
   "outputs": [],
   "source": [
    "a = 0.125\n",
    "a_bin = fraction_to_bin_str(n)"
   ]
  },
  {
   "cell_type": "code",
   "execution_count": 106,
   "metadata": {},
   "outputs": [],
   "source": [
    "b = 0.25\n",
    "b_bin = fraction_to_bin_str(b)"
   ]
  },
  {
   "cell_type": "code",
   "execution_count": 107,
   "metadata": {},
   "outputs": [
    {
     "data": {
      "text/plain": [
       "-0.12457275390625"
      ]
     },
     "execution_count": 107,
     "metadata": {},
     "output_type": "execute_result"
    }
   ],
   "source": [
    "c_bin = bin_addition(a_bin, twos_comp(b_bin))\n",
    "bin_to_frac(c_bin)"
   ]
  },
  {
   "cell_type": "code",
   "execution_count": 111,
   "metadata": {},
   "outputs": [
    {
     "data": {
      "text/plain": [
       "'1000000000000000'"
      ]
     },
     "execution_count": 111,
     "metadata": {},
     "output_type": "execute_result"
    }
   ],
   "source": [
    "one = fraction_to_bin_str(0.5)\n",
    "one"
   ]
  },
  {
   "cell_type": "code",
   "execution_count": 113,
   "metadata": {},
   "outputs": [
    {
     "data": {
      "text/plain": [
       "'0000000000000000'"
      ]
     },
     "execution_count": 113,
     "metadata": {},
     "output_type": "execute_result"
    }
   ],
   "source": [
    "x0 = fraction_to_bin_str(0.5)\n",
    "y0 = fraction_to_bin_str(0.0)"
   ]
  }
 ],
 "metadata": {
  "kernelspec": {
   "display_name": "Python 3.10.10 (tensorflow)",
   "language": "python",
   "name": "tensorflow"
  },
  "language_info": {
   "codemirror_mode": {
    "name": "ipython",
    "version": 3
   },
   "file_extension": ".py",
   "mimetype": "text/x-python",
   "name": "python",
   "nbconvert_exporter": "python",
   "pygments_lexer": "ipython3",
   "version": "3.10.8"
  }
 },
 "nbformat": 4,
 "nbformat_minor": 2
}
